{
  "nbformat": 4,
  "nbformat_minor": 0,
  "metadata": {
    "colab": {
      "provenance": [],
      "authorship_tag": "ABX9TyNbm36yD03jcqH62X3rHoPP",
      "include_colab_link": true
    },
    "kernelspec": {
      "name": "python3",
      "display_name": "Python 3"
    },
    "language_info": {
      "name": "python"
    }
  },
  "cells": [
    {
      "cell_type": "markdown",
      "metadata": {
        "id": "view-in-github",
        "colab_type": "text"
      },
      "source": [
        "<a href=\"https://colab.research.google.com/github/ghl051/ghl051/blob/main/Project_Rock_Paper_Scissors.ipynb\" target=\"_parent\"><img src=\"https://colab.research.google.com/assets/colab-badge.svg\" alt=\"Open In Colab\"/></a>"
      ]
    },
    {
      "cell_type": "markdown",
      "source": [
        "Working of the game\n",
        "If you don't know, here's how the game works:\n",
        "\n",
        "This game is played between two players.\n",
        "Each player can choose either rock or paper or scissors.\n",
        "If both players choose the same thing, it's a draw.\n",
        "However, if the players choose different things, one will win and the other will lose. The rule is:\n",
        "\n",
        "1. rock - scissors: rock will win (rock crushes scissors)\n",
        "\n",
        "Rock will crush scissors\n",
        "Figure: Rock Wins\n",
        "2. rock - paper: paper will win (paper covers rock)\n",
        "\n",
        "Paper will cover rock\n",
        "Figure: Paper Wins\n",
        "3. scissors - paper: scissors win (scissors cut paper)\n",
        "\n",
        "Scissors will cut paper\n",
        "Figure: Scissors Win\n",
        "Project Description\n",
        "Here's how our project works:\n",
        "\n",
        "This game will be played between the computer and the user.\n",
        "The computer will randomly pick either rock, paper or scissors. The user will not know the computer's pick.\n",
        "The user will be asked to choose either rock, paper or scissors.\n",
        "We will compare the computer's pick and the user's pick and decide whether the user won or lost or drew.\n",
        "Let's get started. **bold text**"
      ],
      "metadata": {
        "id": "U_0NvJMQ9Lxh"
      }
    },
    {
      "cell_type": "code",
      "execution_count": 4,
      "metadata": {
        "colab": {
          "base_uri": "https://localhost:8080/"
        },
        "id": "8V-a7cZI9JVt",
        "outputId": "e00f5cba-5cd1-4e9e-831e-9cefae43ce06"
      },
      "outputs": [
        {
          "output_type": "stream",
          "name": "stdout",
          "text": [
            "Welcome to Rock, Paper, Scissors!\n",
            "Choose rock, paper, or scissors: scissor\n",
            "Invalid choice. Please choose rock, paper, or scissors.\n",
            "Choose rock, paper, or scissors: scissors\n",
            "Computer chose paper\n",
            "You win!\n"
          ]
        }
      ],
      "source": [
        "import random\n",
        "\n",
        "def get_user_choice():\n",
        "    user_choice = input(\"Choose rock, paper, or scissors: \").lower()\n",
        "    while user_choice not in [\"rock\", \"paper\", \"scissors\"]:\n",
        "        print(\"Invalid choice. Please choose rock, paper, or scissors.\")\n",
        "        user_choice = input(\"Choose rock, paper, or scissors: \").lower()\n",
        "    return user_choice\n",
        "\n",
        "def get_computer_choice():\n",
        "    return random.choice([\"rock\", \"paper\", \"scissors\"])\n",
        "\n",
        "def determine_winner(user_choice, computer_choice):\n",
        "    print(f\"Computer chose {computer_choice}\")\n",
        "\n",
        "    if user_choice == computer_choice:\n",
        "        return \"It's a draw!\"\n",
        "    elif (\n",
        "        (user_choice == \"rock\" and computer_choice == \"scissors\") or\n",
        "        (user_choice == \"paper\" and computer_choice == \"rock\") or\n",
        "        (user_choice == \"scissors\" and computer_choice == \"paper\")\n",
        "    ):\n",
        "        return \"You win!\"\n",
        "    else:\n",
        "        return \"You lose!\"\n",
        "\n",
        "def play_game():\n",
        "    print(\"Welcome to Rock, Paper, Scissors!\")\n",
        "\n",
        "    user_choice = get_user_choice()\n",
        "    computer_choice = get_computer_choice()\n",
        "\n",
        "    result = determine_winner(user_choice, computer_choice)\n",
        "    print(result)\n",
        "\n",
        "# Run the game\n",
        "play_game()\n"
      ]
    },
    {
      "cell_type": "code",
      "source": [],
      "metadata": {
        "id": "9C9yOqHL9XHP"
      },
      "execution_count": null,
      "outputs": []
    }
  ]
}